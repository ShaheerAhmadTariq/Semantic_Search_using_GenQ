{
 "cells": [
  {
   "cell_type": "code",
   "execution_count": 29,
   "metadata": {},
   "outputs": [],
   "source": [
    "from vector_search import search_vector\n",
    "from pprint import pprint\n",
    "query = \"two garage\"\n",
    "\n",
    "result = search_vector(query)"
   ]
  },
  {
   "cell_type": "code",
   "execution_count": 30,
   "metadata": {},
   "outputs": [
    {
     "data": {
      "text/plain": [
       "['3928', '3928', '3928', '3928', '3928', '457', '457', '457', '457', '457']"
      ]
     },
     "execution_count": 30,
     "metadata": {},
     "output_type": "execute_result"
    }
   ],
   "source": [
    "doc_ids = []\n",
    "for row in result[0]:\n",
    "    doc_ids.append(row['entity']['doc_id'])\n",
    "doc_ids"
   ]
  },
  {
   "cell_type": "code",
   "execution_count": 34,
   "metadata": {},
   "outputs": [],
   "source": [
    "import pandas as pd\n",
    "df = pd.read_csv('../5.finetuning_SBERT/dataset_D_Q.csv')\n",
    "#  create a dict with df['id] as key and df['document] as value\n",
    "# if two df['id'] are the same, the value will be a str of documents\n",
    "doc_dict = {}\n",
    "for idx, row in df.iterrows():\n",
    "    if row['id'] in doc_dict:\n",
    "        # Append the new document to the existing string with a space or other delimiter\n",
    "        doc_dict[row['id']] += \" \" + row['document']\n",
    "    else:\n",
    "        # Create a new entry in the dictionary\n",
    "        doc_dict[row['id']] = row['document']"
   ]
  },
  {
   "cell_type": "code",
   "execution_count": 37,
   "metadata": {},
   "outputs": [
    {
     "data": {
      "text/html": [
       "<div>\n",
       "<style scoped>\n",
       "    .dataframe tbody tr th:only-of-type {\n",
       "        vertical-align: middle;\n",
       "    }\n",
       "\n",
       "    .dataframe tbody tr th {\n",
       "        vertical-align: top;\n",
       "    }\n",
       "\n",
       "    .dataframe thead th {\n",
       "        text-align: right;\n",
       "    }\n",
       "</style>\n",
       "<table border=\"1\" class=\"dataframe\">\n",
       "  <thead>\n",
       "    <tr style=\"text-align: right;\">\n",
       "      <th></th>\n",
       "      <th>id</th>\n",
       "      <th>document</th>\n",
       "      <th>query</th>\n",
       "    </tr>\n",
       "  </thead>\n",
       "  <tbody>\n",
       "    <tr>\n",
       "      <th>0</th>\n",
       "      <td>0</td>\n",
       "      <td>ertyuiop[</td>\n",
       "      <td>Here are five potential questions that could b...</td>\n",
       "    </tr>\n",
       "    <tr>\n",
       "      <th>1</th>\n",
       "      <td>0</td>\n",
       "      <td>ertyuiop[</td>\n",
       "      <td>1. What is the purpose or intended use of this...</td>\n",
       "    </tr>\n",
       "    <tr>\n",
       "      <th>2</th>\n",
       "      <td>0</td>\n",
       "      <td>ertyuiop[</td>\n",
       "      <td>2. Are there any hidden patterns or structures...</td>\n",
       "    </tr>\n",
       "    <tr>\n",
       "      <th>3</th>\n",
       "      <td>0</td>\n",
       "      <td>ertyuiop[</td>\n",
       "      <td>3. Have all the characters in the document bee...</td>\n",
       "    </tr>\n",
       "    <tr>\n",
       "      <th>4</th>\n",
       "      <td>0</td>\n",
       "      <td>ertyuiop[</td>\n",
       "      <td>4. Could this be an example of a specific writ...</td>\n",
       "    </tr>\n",
       "    <tr>\n",
       "      <th>5</th>\n",
       "      <td>1</td>\n",
       "      <td>qwerty</td>\n",
       "      <td>1. What is the significance of the qwerty sequ...</td>\n",
       "    </tr>\n",
       "    <tr>\n",
       "      <th>6</th>\n",
       "      <td>1</td>\n",
       "      <td>qwerty</td>\n",
       "      <td>2. Are there any underlying patterns or struct...</td>\n",
       "    </tr>\n",
       "    <tr>\n",
       "      <th>7</th>\n",
       "      <td>1</td>\n",
       "      <td>qwerty</td>\n",
       "      <td>3. How does the qwerty sequence relate to othe...</td>\n",
       "    </tr>\n",
       "    <tr>\n",
       "      <th>8</th>\n",
       "      <td>1</td>\n",
       "      <td>qwerty</td>\n",
       "      <td>4. Are there any historical or cultural refere...</td>\n",
       "    </tr>\n",
       "    <tr>\n",
       "      <th>9</th>\n",
       "      <td>1</td>\n",
       "      <td>qwerty</td>\n",
       "      <td>5. Is the qwerty sequence intended to be inter...</td>\n",
       "    </tr>\n",
       "  </tbody>\n",
       "</table>\n",
       "</div>"
      ],
      "text/plain": [
       "   id   document                                              query\n",
       "0   0  ertyuiop[  Here are five potential questions that could b...\n",
       "1   0  ertyuiop[  1. What is the purpose or intended use of this...\n",
       "2   0  ertyuiop[  2. Are there any hidden patterns or structures...\n",
       "3   0  ertyuiop[  3. Have all the characters in the document bee...\n",
       "4   0  ertyuiop[  4. Could this be an example of a specific writ...\n",
       "5   1     qwerty  1. What is the significance of the qwerty sequ...\n",
       "6   1     qwerty  2. Are there any underlying patterns or struct...\n",
       "7   1     qwerty  3. How does the qwerty sequence relate to othe...\n",
       "8   1     qwerty  4. Are there any historical or cultural refere...\n",
       "9   1     qwerty  5. Is the qwerty sequence intended to be inter..."
      ]
     },
     "execution_count": 37,
     "metadata": {},
     "output_type": "execute_result"
    }
   ],
   "source": [
    "df.head(10)"
   ]
  },
  {
   "cell_type": "code",
   "execution_count": 32,
   "metadata": {},
   "outputs": [
    {
     "data": {
      "text/plain": [
       "10"
      ]
     },
     "execution_count": 32,
     "metadata": {},
     "output_type": "execute_result"
    }
   ],
   "source": [
    "docs = []\n",
    "for doc in doc_ids:\n",
    "    # print(doc_dict[int(doc)])\n",
    "    docs.append(doc_dict[int(doc)])\n",
    "len(docs)"
   ]
  },
  {
   "cell_type": "code",
   "execution_count": 33,
   "metadata": {},
   "outputs": [
    {
     "data": {
      "text/html": [
       "<div>\n",
       "<style scoped>\n",
       "    .dataframe tbody tr th:only-of-type {\n",
       "        vertical-align: middle;\n",
       "    }\n",
       "\n",
       "    .dataframe tbody tr th {\n",
       "        vertical-align: top;\n",
       "    }\n",
       "\n",
       "    .dataframe thead th {\n",
       "        text-align: right;\n",
       "    }\n",
       "</style>\n",
       "<table border=\"1\" class=\"dataframe\">\n",
       "  <thead>\n",
       "    <tr style=\"text-align: right;\">\n",
       "      <th></th>\n",
       "      <th>document</th>\n",
       "    </tr>\n",
       "  </thead>\n",
       "  <tbody>\n",
       "    <tr>\n",
       "      <th>0</th>\n",
       "      <td>nd a carport coupled with on-street parking. A...</td>\n",
       "    </tr>\n",
       "    <tr>\n",
       "      <th>1</th>\n",
       "      <td>nd a carport coupled with on-street parking. A...</td>\n",
       "    </tr>\n",
       "    <tr>\n",
       "      <th>2</th>\n",
       "      <td>nd a carport coupled with on-street parking. A...</td>\n",
       "    </tr>\n",
       "    <tr>\n",
       "      <th>3</th>\n",
       "      <td>nd a carport coupled with on-street parking. A...</td>\n",
       "    </tr>\n",
       "    <tr>\n",
       "      <th>4</th>\n",
       "      <td>nd a carport coupled with on-street parking. A...</td>\n",
       "    </tr>\n",
       "  </tbody>\n",
       "</table>\n",
       "</div>"
      ],
      "text/plain": [
       "                                            document\n",
       "0  nd a carport coupled with on-street parking. A...\n",
       "1  nd a carport coupled with on-street parking. A...\n",
       "2  nd a carport coupled with on-street parking. A...\n",
       "3  nd a carport coupled with on-street parking. A...\n",
       "4  nd a carport coupled with on-street parking. A..."
      ]
     },
     "execution_count": 33,
     "metadata": {},
     "output_type": "execute_result"
    }
   ],
   "source": [
    "# convert the list of documents to a dataframe\n",
    "df = pd.DataFrame(docs, columns=['document'])\n",
    "df.head()"
   ]
  },
  {
   "cell_type": "code",
   "execution_count": null,
   "metadata": {},
   "outputs": [],
   "source": []
  }
 ],
 "metadata": {
  "kernelspec": {
   "display_name": "Python 3",
   "language": "python",
   "name": "python3"
  },
  "language_info": {
   "codemirror_mode": {
    "name": "ipython",
    "version": 3
   },
   "file_extension": ".py",
   "mimetype": "text/x-python",
   "name": "python",
   "nbconvert_exporter": "python",
   "pygments_lexer": "ipython3",
   "version": "3.12.4"
  }
 },
 "nbformat": 4,
 "nbformat_minor": 2
}
