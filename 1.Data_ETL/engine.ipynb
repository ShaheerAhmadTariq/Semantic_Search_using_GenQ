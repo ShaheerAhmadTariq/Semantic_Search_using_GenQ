{
 "cells": [
  {
   "cell_type": "code",
   "execution_count": 31,
   "metadata": {},
   "outputs": [
    {
     "name": "stdout",
     "output_type": "stream",
     "text": [
      "369\n"
     ]
    }
   ],
   "source": [
    "from database import *\n",
    "\n",
    "res = await fetch_all_properties()\n",
    "print(len(res))"
   ]
  },
  {
   "cell_type": "code",
   "execution_count": 32,
   "metadata": {},
   "outputs": [
    {
     "data": {
      "text/plain": [
       "(263, 263)"
      ]
     },
     "execution_count": 32,
     "metadata": {},
     "output_type": "execute_result"
    }
   ],
   "source": [
    "documents_list = []\n",
    "document_ids = []\n",
    "for docu in res:\n",
    "    if 'description' in docu.keys():\n",
    "        if docu['description'] is not None:\n",
    "            documents_list.append(docu['description'])\n",
    "            document_ids.append(str(docu['_id']))\n",
    "len(documents_list), len(document_ids)"
   ]
  },
  {
   "cell_type": "code",
   "execution_count": 33,
   "metadata": {},
   "outputs": [
    {
     "data": {
      "text/html": [
       "<div>\n",
       "<style scoped>\n",
       "    .dataframe tbody tr th:only-of-type {\n",
       "        vertical-align: middle;\n",
       "    }\n",
       "\n",
       "    .dataframe tbody tr th {\n",
       "        vertical-align: top;\n",
       "    }\n",
       "\n",
       "    .dataframe thead th {\n",
       "        text-align: right;\n",
       "    }\n",
       "</style>\n",
       "<table border=\"1\" class=\"dataframe\">\n",
       "  <thead>\n",
       "    <tr style=\"text-align: right;\">\n",
       "      <th></th>\n",
       "      <th>id</th>\n",
       "      <th>document</th>\n",
       "      <th>query1</th>\n",
       "      <th>query2</th>\n",
       "      <th>query3</th>\n",
       "      <th>query4</th>\n",
       "      <th>query5</th>\n",
       "    </tr>\n",
       "  </thead>\n",
       "  <tbody>\n",
       "    <tr>\n",
       "      <th>0</th>\n",
       "      <td>6531349b011af268d2c45974</td>\n",
       "      <td>ertyuiop[</td>\n",
       "      <td>NaN</td>\n",
       "      <td>NaN</td>\n",
       "      <td>NaN</td>\n",
       "      <td>NaN</td>\n",
       "      <td>NaN</td>\n",
       "    </tr>\n",
       "    <tr>\n",
       "      <th>1</th>\n",
       "      <td>653181158a587da37ea6e356</td>\n",
       "      <td>qwerty</td>\n",
       "      <td>NaN</td>\n",
       "      <td>NaN</td>\n",
       "      <td>NaN</td>\n",
       "      <td>NaN</td>\n",
       "      <td>NaN</td>\n",
       "    </tr>\n",
       "    <tr>\n",
       "      <th>2</th>\n",
       "      <td>6530f9604f267515c92d16ce</td>\n",
       "      <td>Lorem ipsum samir dil olr Lorem ipsum samir di...</td>\n",
       "      <td>NaN</td>\n",
       "      <td>NaN</td>\n",
       "      <td>NaN</td>\n",
       "      <td>NaN</td>\n",
       "      <td>NaN</td>\n",
       "    </tr>\n",
       "    <tr>\n",
       "      <th>3</th>\n",
       "      <td>6531ab908a587da37ea6e886</td>\n",
       "      <td>abc</td>\n",
       "      <td>NaN</td>\n",
       "      <td>NaN</td>\n",
       "      <td>NaN</td>\n",
       "      <td>NaN</td>\n",
       "      <td>NaN</td>\n",
       "    </tr>\n",
       "    <tr>\n",
       "      <th>4</th>\n",
       "      <td>6532be5ac0eb87aacc73e33b</td>\n",
       "      <td>qwerty</td>\n",
       "      <td>NaN</td>\n",
       "      <td>NaN</td>\n",
       "      <td>NaN</td>\n",
       "      <td>NaN</td>\n",
       "      <td>NaN</td>\n",
       "    </tr>\n",
       "  </tbody>\n",
       "</table>\n",
       "</div>"
      ],
      "text/plain": [
       "                         id  \\\n",
       "0  6531349b011af268d2c45974   \n",
       "1  653181158a587da37ea6e356   \n",
       "2  6530f9604f267515c92d16ce   \n",
       "3  6531ab908a587da37ea6e886   \n",
       "4  6532be5ac0eb87aacc73e33b   \n",
       "\n",
       "                                            document query1 query2 query3  \\\n",
       "0                                          ertyuiop[    NaN    NaN    NaN   \n",
       "1                                             qwerty    NaN    NaN    NaN   \n",
       "2  Lorem ipsum samir dil olr Lorem ipsum samir di...    NaN    NaN    NaN   \n",
       "3                                                abc    NaN    NaN    NaN   \n",
       "4                                             qwerty    NaN    NaN    NaN   \n",
       "\n",
       "  query4 query5  \n",
       "0    NaN    NaN  \n",
       "1    NaN    NaN  \n",
       "2    NaN    NaN  \n",
       "3    NaN    NaN  \n",
       "4    NaN    NaN  "
      ]
     },
     "execution_count": 33,
     "metadata": {},
     "output_type": "execute_result"
    }
   ],
   "source": [
    "import pandas as pd\n",
    "\n",
    "# create a dataframe with 7 columns\n",
    "df = pd.DataFrame(columns=['id', 'document', 'query1', 'query2', 'query3', 'query4', 'query5'], dtype=object)\n",
    "# insert the documents into the first column\n",
    "df['document'] = documents_list\n",
    "df['id'] = document_ids\n",
    "df.head()"
   ]
  },
  {
   "cell_type": "markdown",
   "metadata": {},
   "source": [
    "## Preprocessing"
   ]
  },
  {
   "cell_type": "code",
   "execution_count": 34,
   "metadata": {},
   "outputs": [
    {
     "data": {
      "text/plain": [
       "69420"
      ]
     },
     "execution_count": 34,
     "metadata": {},
     "output_type": "execute_result"
    }
   ],
   "source": [
    "# max length of document str column\n",
    "len(df['document'][0])\n",
    "max_len = [len(doc) for doc in df['document']]\n",
    "max(max_len)"
   ]
  },
  {
   "cell_type": "code",
   "execution_count": 36,
   "metadata": {},
   "outputs": [
    {
     "data": {
      "text/html": [
       "<div>\n",
       "<style scoped>\n",
       "    .dataframe tbody tr th:only-of-type {\n",
       "        vertical-align: middle;\n",
       "    }\n",
       "\n",
       "    .dataframe tbody tr th {\n",
       "        vertical-align: top;\n",
       "    }\n",
       "\n",
       "    .dataframe thead th {\n",
       "        text-align: right;\n",
       "    }\n",
       "</style>\n",
       "<table border=\"1\" class=\"dataframe\">\n",
       "  <thead>\n",
       "    <tr style=\"text-align: right;\">\n",
       "      <th></th>\n",
       "      <th>id</th>\n",
       "      <th>document</th>\n",
       "      <th>query1</th>\n",
       "      <th>query2</th>\n",
       "      <th>query3</th>\n",
       "      <th>query4</th>\n",
       "      <th>query5</th>\n",
       "    </tr>\n",
       "  </thead>\n",
       "  <tbody>\n",
       "    <tr>\n",
       "      <th>0</th>\n",
       "      <td>6531349b011af268d2c45974</td>\n",
       "      <td>ertyuiop[</td>\n",
       "      <td>NaN</td>\n",
       "      <td>NaN</td>\n",
       "      <td>NaN</td>\n",
       "      <td>NaN</td>\n",
       "      <td>NaN</td>\n",
       "    </tr>\n",
       "    <tr>\n",
       "      <th>1</th>\n",
       "      <td>653181158a587da37ea6e356</td>\n",
       "      <td>qwerty</td>\n",
       "      <td>NaN</td>\n",
       "      <td>NaN</td>\n",
       "      <td>NaN</td>\n",
       "      <td>NaN</td>\n",
       "      <td>NaN</td>\n",
       "    </tr>\n",
       "    <tr>\n",
       "      <th>2</th>\n",
       "      <td>6530f9604f267515c92d16ce</td>\n",
       "      <td>Lorem ipsum samir dil olr Lorem ipsum samir di...</td>\n",
       "      <td>NaN</td>\n",
       "      <td>NaN</td>\n",
       "      <td>NaN</td>\n",
       "      <td>NaN</td>\n",
       "      <td>NaN</td>\n",
       "    </tr>\n",
       "    <tr>\n",
       "      <th>3</th>\n",
       "      <td>6530f9604f267515c92d16ce</td>\n",
       "      <td>olr Lorem ipsum samir dil olr Lorem ipsum sami...</td>\n",
       "      <td>NaN</td>\n",
       "      <td>NaN</td>\n",
       "      <td>NaN</td>\n",
       "      <td>NaN</td>\n",
       "      <td>NaN</td>\n",
       "    </tr>\n",
       "    <tr>\n",
       "      <th>4</th>\n",
       "      <td>6530f9604f267515c92d16ce</td>\n",
       "      <td>dil olr Lorem ipsum samir dil olr Lorem ipsum ...</td>\n",
       "      <td>NaN</td>\n",
       "      <td>NaN</td>\n",
       "      <td>NaN</td>\n",
       "      <td>NaN</td>\n",
       "      <td>NaN</td>\n",
       "    </tr>\n",
       "  </tbody>\n",
       "</table>\n",
       "</div>"
      ],
      "text/plain": [
       "                         id  \\\n",
       "0  6531349b011af268d2c45974   \n",
       "1  653181158a587da37ea6e356   \n",
       "2  6530f9604f267515c92d16ce   \n",
       "3  6530f9604f267515c92d16ce   \n",
       "4  6530f9604f267515c92d16ce   \n",
       "\n",
       "                                            document  query1  query2  query3  \\\n",
       "0                                          ertyuiop[     NaN     NaN     NaN   \n",
       "1                                             qwerty     NaN     NaN     NaN   \n",
       "2  Lorem ipsum samir dil olr Lorem ipsum samir di...     NaN     NaN     NaN   \n",
       "3  olr Lorem ipsum samir dil olr Lorem ipsum sami...     NaN     NaN     NaN   \n",
       "4  dil olr Lorem ipsum samir dil olr Lorem ipsum ...     NaN     NaN     NaN   \n",
       "\n",
       "   query4  query5  \n",
       "0     NaN     NaN  \n",
       "1     NaN     NaN  \n",
       "2     NaN     NaN  \n",
       "3     NaN     NaN  \n",
       "4     NaN     NaN  "
      ]
     },
     "execution_count": 36,
     "metadata": {},
     "output_type": "execute_result"
    }
   ],
   "source": [
    "# split the row where document len is greater than 1024 into multiple rows keeping the same id\n",
    "\n",
    "def split_document(row, max_len=100):\n",
    "    \"\"\" Split the document in a row if its length exceeds max_len, keeping the same ID. \"\"\"\n",
    "    # Get the length of the document\n",
    "    length = len(row['document'])\n",
    "    # If the document is longer than max_len, split it\n",
    "    if length > max_len:\n",
    "        # Split the text into chunks\n",
    "        chunks = [row['document'][i:i+max_len] for i in range(0, length, max_len)]\n",
    "        # Create new rows for each chunk\n",
    "        return pd.DataFrame({\n",
    "            'id': [row['id']] * len(chunks),\n",
    "            'document': chunks,\n",
    "            'query1': [row['query1']] * len(chunks),\n",
    "            'query2': [row['query2']] * len(chunks),\n",
    "            'query3': [row['query3']] * len(chunks),\n",
    "            'query4': [row['query4']] * len(chunks),\n",
    "            'query5': [row['query5']] * len(chunks)\n",
    "        })\n",
    "    else:\n",
    "        # Return the original row if no splitting is needed\n",
    "        return pd.DataFrame([row])\n",
    "\n",
    "# Apply the function to each row and concatenate the results\n",
    "new_rows = df.apply(split_document, axis=1)\n",
    "new_df = pd.concat(new_rows.values.tolist(), ignore_index=True)\n",
    "\n",
    "new_df.head()"
   ]
  },
  {
   "cell_type": "code",
   "execution_count": 37,
   "metadata": {},
   "outputs": [],
   "source": [
    "new_df.to_csv('dataset.csv')"
   ]
  },
  {
   "cell_type": "code",
   "execution_count": null,
   "metadata": {},
   "outputs": [],
   "source": []
  }
 ],
 "metadata": {
  "kernelspec": {
   "display_name": "Python 3",
   "language": "python",
   "name": "python3"
  },
  "language_info": {
   "codemirror_mode": {
    "name": "ipython",
    "version": 3
   },
   "file_extension": ".py",
   "mimetype": "text/x-python",
   "name": "python",
   "nbconvert_exporter": "python",
   "pygments_lexer": "ipython3",
   "version": "3.12.4"
  }
 },
 "nbformat": 4,
 "nbformat_minor": 2
}
